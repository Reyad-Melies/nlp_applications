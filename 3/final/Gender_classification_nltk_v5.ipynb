{
  "nbformat": 4,
  "nbformat_minor": 0,
  "metadata": {
    "colab": {
      "name": "Gender_classification_nltk_v5.ipynb",
      "provenance": []
    },
    "kernelspec": {
      "name": "python3",
      "display_name": "Python 3"
    }
  },
  "cells": [
    {
      "cell_type": "code",
      "metadata": {
        "id": "GEDQBZVQ6itw",
        "colab": {
          "base_uri": "https://localhost:8080/"
        },
        "outputId": "178a62fd-a83b-4fec-a4d6-89c61b054a15"
      },
      "source": [
        "from nltk.corpus import names\n",
        "import random\n",
        "import nltk \n",
        "nltk.download('names')\n",
        "#cross_validation is deprecated since version 0.18. This module will be removed in 0.20. Use sklearn.model_selection.train_test_split instead\n",
        "#from sklearn import cross_validation\n",
        "from sklearn.model_selection import KFold\n",
        "# https://www.nltk.org/book/ch06.html\n",
        "\n",
        "def gender_features2(name):\n",
        "    features = {}\n",
        "    features[\"first_letter\"] = name[0].lower()\n",
        "    features[\"last_letter\"] = name[-1].lower()\n",
        "    for letter in 'abcdefghijklmnopqrstuvwxyz':\n",
        "        features[\"count({})\".format(letter)] = name.lower().count(letter)\n",
        "        features[\"has({})\".format(letter)] = (letter in name.lower())\n",
        "    return features\n",
        "#print(gender_features2('Shrek'))\n",
        "\n",
        "labeled_names = ([(name, 'male') for name in names.words('male.txt')] +\n",
        "\t[(name, 'female') for name in names.words('female.txt')])\n",
        "\n",
        "random.shuffle(labeled_names)\n",
        "\n",
        "featuresets = [(gender_features2(n), gender) for (n, gender) in labeled_names]\n",
        "train_set, test_set = featuresets[500:], featuresets[:500]\n",
        "#classifier = nltk.NaiveBayesClassifier.train(train_set)\n",
        "cv = KFold( n_splits=10, shuffle=False, random_state=None)\n",
        "for traincv, testcv in cv.split(train_set):\n",
        "\tclassifier = nltk.NaiveBayesClassifier.train(train_set[traincv[0]:traincv[len(traincv)-1]])\n",
        "\tprint ('accuracy:', nltk.classify.util.accuracy(classifier, train_set[testcv[0]:testcv[len(testcv)-1]]))\n",
        "# Scoring\n",
        "print(classifier.classify(gender_features2('Neo')))\n",
        "\n",
        "print(classifier.classify(gender_features2('Trinity')))\n",
        "\n",
        "# Evaluations\n",
        "print(nltk.classify.accuracy(classifier, test_set))\n",
        "\n",
        "# Examine the classifier to determine which features it found most effective;\n",
        "# likelihood ratios\n",
        "print(classifier.show_most_informative_features(5))\n",
        "\n",
        "# use apply_features to use memory economically, when using large corpora;\n",
        "from nltk.classify import apply_features\n",
        "train_set = apply_features(gender_features2, labeled_names[500:])\n",
        "test_set = apply_features(gender_features2, labeled_names[:500])"
      ],
      "execution_count": 12,
      "outputs": [
        {
          "output_type": "stream",
          "text": [
            "[nltk_data] Downloading package names to /root/nltk_data...\n",
            "[nltk_data]   Package names is already up-to-date!\n",
            "accuracy: 0.7553763440860215\n",
            "accuracy: 0.7889784946236559\n",
            "accuracy: 0.7782258064516129\n",
            "accuracy: 0.7876344086021505\n",
            "accuracy: 0.7913862718707941\n",
            "accuracy: 0.784656796769852\n",
            "accuracy: 0.7604306864064603\n",
            "accuracy: 0.7685060565275909\n",
            "accuracy: 0.7792732166890982\n",
            "accuracy: 0.7900403768506057\n",
            "male\n",
            "female\n",
            "0.75\n",
            "Most Informative Features\n",
            "             last_letter = 'k'              male : female =     37.7 : 1.0\n",
            "             last_letter = 'a'            female : male   =     34.7 : 1.0\n",
            "             last_letter = 'f'              male : female =     14.6 : 1.0\n",
            "             last_letter = 'p'              male : female =     11.9 : 1.0\n",
            "             last_letter = 'v'              male : female =     11.2 : 1.0\n",
            "None\n"
          ],
          "name": "stdout"
        }
      ]
    }
  ]
}