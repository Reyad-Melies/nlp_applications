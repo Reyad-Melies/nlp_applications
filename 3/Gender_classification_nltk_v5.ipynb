{
  "nbformat": 4,
  "nbformat_minor": 0,
  "metadata": {
    "colab": {
      "name": "Gender_classification_nltk_v5.ipynb",
      "provenance": []
    },
    "kernelspec": {
      "name": "python3",
      "display_name": "Python 3"
    }
  },
  "cells": [
    {
      "cell_type": "code",
      "metadata": {
        "id": "n2A4J9IG6gwL"
      },
      "source": [
        ""
      ],
      "execution_count": null,
      "outputs": []
    },
    {
      "cell_type": "code",
      "metadata": {
        "id": "GEDQBZVQ6itw"
      },
      "source": [
        "from nltk.corpus import names\n",
        "import random\n",
        "import nltk \n",
        "from sklearn import cross_validation\n",
        "# https://www.nltk.org/book/ch06.html\n",
        "\n",
        "def gender_features2(name):\n",
        "    features = {}\n",
        "    features[\"first_letter\"] = name[0].lower()\n",
        "    features[\"last_letter\"] = name[-1].lower()\n",
        "    for letter in 'abcdefghijklmnopqrstuvwxyz':\n",
        "        features[\"count({})\".format(letter)] = name.lower().count(letter)\n",
        "        features[\"has({})\".format(letter)] = (letter in name.lower())\n",
        "    return features\n",
        "#print(gender_features2('Shrek'))\n",
        "\n",
        "labeled_names = ([(name, 'male') for name in names.words('male.txt')] +\n",
        "\t[(name, 'female') for name in names.words('female.txt')])\n",
        "\n",
        "random.shuffle(labeled_names)\n",
        "\n",
        "featuresets = [(gender_features2(n), gender) for (n, gender) in labeled_names]\n",
        "train_set, test_set = featuresets[500:], featuresets[:500]\n",
        "#classifier = nltk.NaiveBayesClassifier.train(train_set)\n",
        "cv = cross_validation.KFold(len(train_set), n_folds=10, shuffle=False, random_state=None)\n",
        "for traincv, testcv in cv:\n",
        "\tclassifier = nltk.NaiveBayesClassifier.train(train_set[traincv[0]:traincv[len(traincv)-1]])\n",
        "\tprint ('accuracy:', nltk.classify.util.accuracy(classifier, train_set[testcv[0]:testcv[len(testcv)-1]]))\n",
        "# Scoring\n",
        "print(classifier.classify(gender_features2('Neo')))\n",
        "\n",
        "print(classifier.classify(gender_features2('Trinity')))\n",
        "\n",
        "# Evaluations\n",
        "print(nltk.classify.accuracy(classifier, test_set))\n",
        "\n",
        "# Examine the classifier to determine which features it found most effective;\n",
        "# likelihood ratios\n",
        "print(classifier.show_most_informative_features(5))\n",
        "\n",
        "# use apply_features to use memory economically, when using large corpora;\n",
        "from nltk.classify import apply_features\n",
        "train_set = apply_features(gender_features2, labeled_names[500:])\n",
        "test_set = apply_features(gender_features2, labeled_names[:500])"
      ],
      "execution_count": null,
      "outputs": []
    }
  ]
}