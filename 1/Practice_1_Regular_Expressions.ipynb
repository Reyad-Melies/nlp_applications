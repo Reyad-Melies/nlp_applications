{
  "nbformat": 4,
  "nbformat_minor": 0,
  "metadata": {
    "colab": {
      "name": "Practice 1: Regular Expressions.ipynb",
      "provenance": [],
      "collapsed_sections": []
    },
    "kernelspec": {
      "name": "python3",
      "display_name": "Python 3"
    },
    "language_info": {
      "name": "python"
    }
  },
  "cells": [
    {
      "cell_type": "code",
      "metadata": {
        "id": "ftZQ1VRG-pj1"
      },
      "source": [
        "S='heeellooo'\n",
        "words = [\"hello\", \"hi\", \"helo\"]\n",
        "output=[]"
      ],
      "execution_count": 5,
      "outputs": []
    },
    {
      "cell_type": "code",
      "metadata": {
        "id": "Rjl0hayg_JuJ"
      },
      "source": [
        "def stretchy(word,ss):\n",
        "  index = 0\n",
        "  indexw = 0\n",
        "  flag = 1\n",
        "  lenght = 0\n",
        "  charw=word[0]\n",
        "  x=0\n",
        "  while x<len(ss) :\n",
        "    if ss[x]==charw:\n",
        "      lenght+=1\n",
        "      index+=1\n",
        "      #print(charw+'    same  ' + ss[x])\n",
        "      if indexw <= len(word)-2:\n",
        "       if ss[x]==word[indexw+1]:\n",
        "        #print(ss[x]+'   skip after  '+word[indexw+1])\n",
        "        indexw+=1\n",
        "        lenght=0\n",
        "        charw=word[indexw]\n",
        "\n",
        "      x+=1\n",
        "    else:\n",
        "      if lenght==1 or lenght>=3:\n",
        "        lenght=0\n",
        "        #print('3> or 1 '+charw)\n",
        "        indexw+=1\n",
        "        charw=word[indexw]\n",
        "      elif ss[x]==ss[index+1] and (lenght==1 or lenght>=3):\n",
        "        pass\n",
        "        #print(ss[x]+\"   in the middle  \"+charw)\n",
        "      else:   \n",
        "        flag =0\n",
        "        #print(ss[x]+\"   wrooooong  \"+charw)\n",
        "        break\n",
        "  #print(flag)\n",
        "  return flag"
      ],
      "execution_count": 6,
      "outputs": []
    },
    {
      "cell_type": "code",
      "metadata": {
        "id": "e0PJM9X8oKiP"
      },
      "source": [
        "output=[]\n",
        "if(len(S)<=100 and len(S)>=0 and S.islower() and len(words)<=100 and len(words)>=0):\n",
        " for x in words:\n",
        "   if (len(x)<=100 and len(x)>=0 and x.islower()):\n",
        "    output.append(stretchy(x,S))\n",
        "   else:\n",
        "    print(\"Failed Constrain\")\n",
        "    output=[]\n",
        "    break\n",
        "else:\n",
        "  print(\"Failed Constrain\")"
      ],
      "execution_count": 10,
      "outputs": []
    },
    {
      "cell_type": "code",
      "metadata": {
        "colab": {
          "base_uri": "https://localhost:8080/"
        },
        "id": "Cpr0UjUPAArL",
        "outputId": "1aeac8eb-388e-434f-fbcb-7a53a0e7f810"
      },
      "source": [
        "output"
      ],
      "execution_count": 11,
      "outputs": [
        {
          "output_type": "execute_result",
          "data": {
            "text/plain": [
              "[1, 0, 0]"
            ]
          },
          "metadata": {
            "tags": []
          },
          "execution_count": 11
        }
      ]
    }
  ]
}